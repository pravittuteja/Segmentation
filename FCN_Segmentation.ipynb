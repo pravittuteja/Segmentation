{
  "nbformat": 4,
  "nbformat_minor": 0,
  "metadata": {
    "colab": {
      "name": "FCN_Segmentation.ipynb",
      "provenance": [],
      "collapsed_sections": [],
      "toc_visible": true
    },
    "kernelspec": {
      "name": "python3",
      "display_name": "Python 3"
    },
    "accelerator": "GPU"
  },
  "cells": [
    {
      "cell_type": "markdown",
      "metadata": {
        "id": "wfZRLyTK4_h1",
        "colab_type": "text"
      },
      "source": [
        "# **Click on Runtime and select Change runtime type option. And then choose GPU from the Hardware Accelerator.**\n"
      ]
    },
    {
      "cell_type": "markdown",
      "metadata": {
        "id": "h23cMtn90NFG",
        "colab_type": "text"
      },
      "source": [
        "# **Mount your Google drive **"
      ]
    },
    {
      "cell_type": "code",
      "metadata": {
        "id": "-Ohpk8eayI_-",
        "colab_type": "code",
        "outputId": "90ba0da5-fb04-4188-a940-38c9251f896e",
        "colab": {
          "base_uri": "https://localhost:8080/",
          "height": 121
        }
      },
      "source": [
        "from google.colab import drive\n",
        "drive.mount('/content/drive')"
      ],
      "execution_count": 0,
      "outputs": [
        {
          "output_type": "stream",
          "text": [
            "Go to this URL in a browser: https://accounts.google.com/o/oauth2/auth?client_id=947318989803-6bn6qk8qdgf4n4g3pfee6491hc0brc4i.apps.googleusercontent.com&redirect_uri=urn%3aietf%3awg%3aoauth%3a2.0%3aoob&response_type=code&scope=email%20https%3a%2f%2fwww.googleapis.com%2fauth%2fdocs.test%20https%3a%2f%2fwww.googleapis.com%2fauth%2fdrive%20https%3a%2f%2fwww.googleapis.com%2fauth%2fdrive.photos.readonly%20https%3a%2f%2fwww.googleapis.com%2fauth%2fpeopleapi.readonly\n",
            "\n",
            "Enter your authorization code:\n",
            "··········\n",
            "Mounted at /content/drive\n"
          ],
          "name": "stdout"
        }
      ]
    },
    {
      "cell_type": "markdown",
      "metadata": {
        "id": "lGpvFS3L0WNC",
        "colab_type": "text"
      },
      "source": [
        "# **List the files on your google drive**"
      ]
    },
    {
      "cell_type": "code",
      "metadata": {
        "id": "Izg2vcgYypAK",
        "colab_type": "code",
        "colab": {}
      },
      "source": [
        "! ls '/content/drive/My Drive'"
      ],
      "execution_count": 0,
      "outputs": []
    },
    {
      "cell_type": "markdown",
      "metadata": {
        "id": "V_L1X0iT09fn",
        "colab_type": "text"
      },
      "source": [
        "# Change the directory of your **drive**"
      ]
    },
    {
      "cell_type": "code",
      "metadata": {
        "id": "8TrM8XCz0tx6",
        "colab_type": "code",
        "colab": {}
      },
      "source": [
        "import os\n",
        "os.chdir('/content/drive/My Drive/HW6/hw6_fcn')\n"
      ],
      "execution_count": 0,
      "outputs": []
    },
    {
      "cell_type": "markdown",
      "metadata": {
        "id": "nI-UZZcZ1z8d",
        "colab_type": "text"
      },
      "source": [
        "# **Import statements**"
      ]
    },
    {
      "cell_type": "code",
      "metadata": {
        "id": "pNzQOErFx69b",
        "colab_type": "code",
        "outputId": "880b3549-b630-4dcf-e1b7-d519026aa76f",
        "colab": {
          "base_uri": "https://localhost:8080/",
          "height": 34
        }
      },
      "source": [
        "%tensorflow_version 1.x\n",
        "import tensorflow as tf\n",
        "import os.path\n",
        "import warnings\n",
        "import glob\n",
        "\n",
        "import data_utils"
      ],
      "execution_count": 0,
      "outputs": [
        {
          "output_type": "stream",
          "text": [
            "TensorFlow 1.x selected.\n"
          ],
          "name": "stdout"
        }
      ]
    },
    {
      "cell_type": "markdown",
      "metadata": {
        "id": "P9P-nnWax690",
        "colab_type": "text"
      },
      "source": [
        "# Function to load the pretrained model provided    (10 points)"
      ]
    },
    {
      "cell_type": "code",
      "metadata": {
        "id": "vB8M0waFx698",
        "colab_type": "code",
        "colab": {}
      },
      "source": [
        "def load_model(sess, model_path):\n",
        "    \"\"\"\n",
        "    Load Pretrained VGG Model into TensorFlow.\n",
        "    sess: Tensorflow session\n",
        "    model_path: Path to the vgg folder, it was provided to you\n",
        "    return: return tuple of tensors (input_image, keep_prob, out_layer3, out_layer4, out_layer7)\n",
        "    \"\"\"\n",
        "    # TODO: Implement function\n",
        "    # to load the model and weights use tf.saved_model.loader.load\n",
        "    # Use this tensor names to fetch the layers from pretrained vgg model:\n",
        "    # input_tensor         :  'image_input:0'\n",
        "    # kee_prob_tensor_name :  'keep_prob:0'\n",
        "    # out_layer3_tensor    :  'layer3_out:0'\n",
        "    # out_layer4_tensor    :  'layer4_out:0'\n",
        "    # out_layer7_tensor    :  'layer7_out:0' \n",
        "    # TODO load the model\n",
        "    # load the model and weights\n",
        "    model = tf.saved_model.loader.load(sess, ['vgg16'], model_path)\n",
        "    graph = tf.get_default_graph()\n",
        "    input_tensor         =   graph.get_tensor_by_name('image_input:0')\n",
        "    keep_prob_tensor     =   graph.get_tensor_by_name('keep_prob:0')\n",
        "    out_layer3_tensor    =   graph.get_tensor_by_name('layer3_out:0')\n",
        "    out_layer4_tensor    =   graph.get_tensor_by_name('layer4_out:0')\n",
        "    out_layer7_tensor    =   graph.get_tensor_by_name('layer7_out:0')\n",
        "    \n",
        "    return input_tensor, keep_prob_tensor, out_layer3_tensor, out_layer4_tensor, out_layer7_tensor"
      ],
      "execution_count": 0,
      "outputs": []
    },
    {
      "cell_type": "markdown",
      "metadata": {
        "id": "QcAMjks1x6-N",
        "colab_type": "text"
      },
      "source": [
        "# Create FCN-8 architecture                    (10 points)"
      ]
    },
    {
      "cell_type": "code",
      "metadata": {
        "id": "6hTYUFjQx6-R",
        "colab_type": "code",
        "colab": {}
      },
      "source": [
        "def create_layers(layer3_out, layer4_out, layer7_out, num_classes):\n",
        "    \"\"\"\n",
        "    Pretrained model provided is VGG\n",
        "    Build a FCN model. Please read the paper Fully Convolutional Networks to complete this task.\n",
        "    layer3_out : Output Tensor of Layer 3 VGG model\n",
        "    layer4_out : Output Tensor of Layer 4 VGG model\n",
        "    layer7_out : Output Tensor of Layer 7 VGG model\n",
        "    return: Tensor for the last layer of output\n",
        "    \"\"\"\n",
        "    # TODO: Implement function\n",
        "    layer3, layer4, layer7 = layer3_out, layer4_out, layer7_out\n",
        "    fcn8 = tf.layers.conv2d(layer7, filters=num_classes, kernel_size=1, name=\"fcn8\")\n",
        "    fcn9 = tf.layers.conv2d_transpose(fcn8, filters=layer4.get_shape().as_list()[-1],\n",
        "    kernel_size=4, strides=(2, 2), padding='SAME', name=\"fcn9\")\n",
        "    fcn9_skip_connected = tf.add(fcn9, layer4, name=\"fcn9_plus_vgg_layer4\")\n",
        "    fcn10 = tf.layers.conv2d_transpose(fcn9_skip_connected, filters=layer3.get_shape().as_list()[-1],\n",
        "    kernel_size=4, strides=(2, 2), padding='SAME', name=\"fcn10_conv2d\")\n",
        "    fcn10_skip_connected = tf.add(fcn10, layer3, name=\"fcn10_plus_vgg_layer3\")\n",
        "    fcn11 = tf.layers.conv2d_transpose(fcn10_skip_connected, filters=num_classes,\n",
        "    kernel_size=16, strides=(8, 8), padding='SAME', name=\"fcn11\")\n",
        "\n",
        "    return fcn11\n"
      ],
      "execution_count": 0,
      "outputs": []
    },
    {
      "cell_type": "markdown",
      "metadata": {
        "id": "ujYAjW7ox6-f",
        "colab_type": "text"
      },
      "source": [
        "# Define loss function and optimizer             (15 points)"
      ]
    },
    {
      "cell_type": "code",
      "metadata": {
        "id": "m_JAkylBx6-j",
        "colab_type": "code",
        "colab": {}
      },
      "source": [
        "def optimizer(network_last_layer, actual_label, learning_rate, n_classes):\n",
        "    \"\"\"\n",
        "    In this function create ops for tensorflow loss and optimizer\n",
        "    Params:\n",
        "    network_last_layer: Tensorflow tensor for the last layer in the neural network\n",
        "    actual_label: Tensorflow placeholder for the actual label of the image\n",
        "    learning_rate: Tensroflow placeholder for the learning rate\n",
        "    n_classes: Number of classes\n",
        "    return: Tuple of (logits, training_op, crossentropy_loss)\n",
        "    \"\"\"\n",
        "    # TODO: Implement function\n",
        "\n",
        "    logits = tf.reshape(network_last_layer, (-1, n_classes), name=\"fcn_logits\")\n",
        "    correct_label_reshaped = tf.reshape(actual_label, (-1, n_classes))\n",
        "    cross_entropy = tf.nn.softmax_cross_entropy_with_logits(logits=logits, labels=correct_label_reshaped[:])\n",
        "    ce_loss = tf.reduce_mean(cross_entropy, name=\"fcn_loss\")\n",
        "    train_op = tf.train.AdamOptimizer(learning_rate=learning_rate).minimize(ce_loss, name=\"fcn_train_op\")\n",
        "\n",
        "    return logits, train_op, ce_loss\n",
        "\n"
      ],
      "execution_count": 0,
      "outputs": []
    },
    {
      "cell_type": "markdown",
      "metadata": {
        "id": "SJDtyQ_Gx6-s",
        "colab_type": "text"
      },
      "source": [
        "# Method to perform training             (25 points)"
      ]
    },
    {
      "cell_type": "code",
      "metadata": {
        "id": "DbPc8wzlx6-v",
        "colab_type": "code",
        "colab": {}
      },
      "source": [
        "def run_fcn():\n",
        "    tf.reset_default_graph()\n",
        "    image_shape = (160, 576)\n",
        "    n_classes = 2\n",
        "    #plc b_n img0, img1, nclasses\n",
        "    correct_label = tf.placeholder(tf.int32, [1, image_shape[0], image_shape[1], n_classes])\n",
        "    learning_rate = tf.placeholder(tf.float32)\n",
        "    keep_prob = tf.placeholder(tf.float32)\n",
        "    \n",
        "    \n",
        "    data_dir = '/content/drive/My Drive/HW6/hw6_fcn/hw6_fcn/data/'\n",
        "    runs_dir = './runs'\n",
        "    NUM_EPOCHS = 30 # initialize number of epochs # We used 20 to get the results provided in the document.\n",
        "    BATCH_SIZE  = 1 # initialize with batch size for training # We used 1 to get the results provided in the document.\n",
        "    #Get training data iterator \n",
        "    iterator = data_utils.get_training_iterator(os.path.join(data_dir, 'data/training'), image_shape, NUM_EPOCHS, BATCH_SIZE)\n",
        "    imagebx_labelbx = iterator.get_next()\n",
        "    config = tf.ConfigProto()\n",
        "    config.gpu_options.allow_growth=True\n",
        "    #training_dir = \"/content/drive/My Drive/HW6/hw6_fcn/hw6_fcn/data/data/training\"\n",
        "    max_value = tf.placeholder(tf.int64, shape=[]) \n",
        "    with tf.Session(config=config) as sess:\n",
        "        # Path to vgg model\n",
        "        vggmodel_path = '/content/drive/My Drive/HW6/hw6_fcn/hw6_fcn/data/'\n",
        "        # TODO: Build the Fully Convolutional Network using load_model, create_layers, and optimizer function\n",
        "        image_input, keep_prob, layer3, layer4, layer7 = load_model(sess, vggmodel_path)\n",
        "        model_output = create_layers(layer3, layer4, layer7, n_classes)\n",
        "        logits, train_op, cross_entropy_loss = optimizer(model_output,correct_label ,learning_rate, n_classes)\n",
        "        # TODO: Train the FCN network by iterating the tf.data iterator. Check the examples provided in the document \n",
        "        sess.run(tf.global_variables_initializer())\n",
        "        sess.run(tf.local_variables_initializer())\n",
        "        keep_prob_value = 0.8\n",
        "        learning_rate_value = 0.0001\n",
        "        \n",
        "\n",
        "        sess.run(iterator.initializer)\n",
        "        for epoch in range(NUM_EPOCHS):\n",
        "          print(\"EPOCH {} ...\".format(epoch + 1))\n",
        "          loss_t = 0\n",
        "          for i in range(289): \n",
        "            #print(i)\n",
        "            value = sess.run(imagebx_labelbx) \n",
        "            X_batch = value[0]\n",
        "            gt_batch = value[1]\n",
        "            \n",
        "            loss, _ = sess.run([cross_entropy_loss, train_op],\n",
        "            feed_dict={image_input: X_batch, correct_label: gt_batch,\n",
        "            keep_prob: keep_prob_value, learning_rate:learning_rate_value})\n",
        "            loss_t += loss;\n",
        "          print(\"Loss = {:.3f}\".format(loss_t))\n",
        "\n",
        "\n",
        "        print(\"Loss = {:.3f}\".format(loss_t))\n",
        "        print()\n",
        "    #TODO: Once training is completed, use the trained model on test dataset.\n",
        "        data_utils.test_images(runs_dir, data_dir, sess, logits,  keep_prob, image_input, image_shape)"
      ],
      "execution_count": 0,
      "outputs": []
    },
    {
      "cell_type": "markdown",
      "metadata": {
        "id": "1xlRvmVqx6-5",
        "colab_type": "text"
      },
      "source": [
        "# After completing the code in above cells, call run_fcn() method."
      ]
    },
    {
      "cell_type": "code",
      "metadata": {
        "id": "zxh5r3xlx6_D",
        "colab_type": "code",
        "colab": {}
      },
      "source": [
        "if __name__ == \"__main__\":\n",
        "    run_fcn()"
      ],
      "execution_count": 0,
      "outputs": []
    }
  ]
}